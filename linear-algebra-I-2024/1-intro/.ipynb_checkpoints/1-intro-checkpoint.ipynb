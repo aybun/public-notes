{
 "cells": [
  {
   "cell_type": "code",
   "execution_count": 1,
   "metadata": {},
   "outputs": [],
   "source": [
    "#sagemath 9.3\n",
    "#Reference : https://wiki.sagemath.org/quickref?action=AttachFile&do=get&target=quickref-linalg.pdf\n"
   ]
  },
  {
   "cell_type": "code",
   "execution_count": 2,
   "metadata": {},
   "outputs": [
    {
     "data": {
      "text/plain": [
       "[2]\n",
       "[6]"
      ]
     },
     "execution_count": 2,
     "metadata": {},
     "output_type": "execute_result"
    }
   ],
   "source": [
    "# hit CTRL + Enter to run the cell\n",
    "# QQbar is the field of algebraic numbers. Don't worry about that for now.\n",
    "\n",
    "# First item\n",
    "\n",
    "B = matrix(QQbar,[\n",
    "    [2],\n",
    "    [6]\n",
    "])\n",
    "B # Type the object you want to print at the bottom of the cell."
   ]
  },
  {
   "cell_type": "code",
   "execution_count": 3,
   "metadata": {},
   "outputs": [
    {
     "data": {
      "text/plain": [
       "[ 2  5]\n",
       "[-4 10]"
      ]
     },
     "execution_count": 3,
     "metadata": {},
     "output_type": "execute_result"
    }
   ],
   "source": [
    "A = matrix(QQbar,[\n",
    "    \n",
    "    [ 2,  5],\n",
    "    [ -4, 10]\n",
    "    \n",
    "])\n",
    "A"
   ]
  },
  {
   "cell_type": "code",
   "execution_count": 4,
   "metadata": {},
   "outputs": [
    {
     "data": {
      "text/plain": [
       "[ 2  5  2]\n",
       "[-4 10  6]"
      ]
     },
     "execution_count": 4,
     "metadata": {},
     "output_type": "execute_result"
    }
   ],
   "source": [
    "# [A | B]\n",
    "\n",
    "C = A.augment(B)\n",
    "C"
   ]
  },
  {
   "cell_type": "code",
   "execution_count": 5,
   "metadata": {},
   "outputs": [
    {
     "data": {
      "text/plain": [
       "[ 2  5  2]\n",
       "[ 0 20 10]"
      ]
     },
     "execution_count": 5,
     "metadata": {},
     "output_type": "execute_result"
    }
   ],
   "source": [
    "# A.add_multiple_of_row(i,j,a) a*(row j) + row i\n",
    "# row 1 has index 0. row 2 has index 1.\n",
    "\n",
    "# 2*r1 + r2 -> r2 \n",
    "C.add_multiple_of_row(1, 0, 2)\n",
    "C"
   ]
  },
  {
   "cell_type": "code",
   "execution_count": 6,
   "metadata": {},
   "outputs": [
    {
     "data": {
      "text/plain": [
       "[   2    0 -1/2]\n",
       "[   0   20   10]"
      ]
     },
     "execution_count": 6,
     "metadata": {},
     "output_type": "execute_result"
    }
   ],
   "source": [
    "#A.rescale_row(i,a) a*(row i)\n",
    "\n",
    "# -1/4*r2 + r1 -> r1 \n",
    "C.add_multiple_of_row(0, 1, -1/4)\n",
    "C"
   ]
  },
  {
   "cell_type": "code",
   "execution_count": 7,
   "metadata": {},
   "outputs": [
    {
     "data": {
      "text/plain": [
       "[   1    0 -1/4]\n",
       "[   0   20   10]"
      ]
     },
     "execution_count": 7,
     "metadata": {},
     "output_type": "execute_result"
    }
   ],
   "source": [
    "#A.rescale_row(i,a) a*(row i)\n",
    "\n",
    "# 1/2 * r1 -> r1\n",
    "C.rescale_row(0, 1/2)\n",
    "C"
   ]
  },
  {
   "cell_type": "code",
   "execution_count": 8,
   "metadata": {},
   "outputs": [
    {
     "data": {
      "text/plain": [
       "[   1    0 -1/4]\n",
       "[   0    1  1/2]"
      ]
     },
     "execution_count": 8,
     "metadata": {},
     "output_type": "execute_result"
    }
   ],
   "source": [
    "# 1/20 * r2 -> r2 \n",
    "C.rescale_row(1, 1/20)\n",
    "C"
   ]
  },
  {
   "cell_type": "code",
   "execution_count": 9,
   "metadata": {},
   "outputs": [
    {
     "data": {
      "text/plain": [
       "[ 1  1 -2 -2]\n",
       "[ 0  1  3  7]\n",
       "[ 1  0 -1 -1]"
      ]
     },
     "execution_count": 9,
     "metadata": {},
     "output_type": "execute_result"
    }
   ],
   "source": [
    "# Second item\n",
    "# Reference : Hefferon, J. (2020). Linear Algebra. สหรัฐอเมริกา: Orthogonal Publishing L3C.\n",
    "# III.1 Gauss-Jordan Reduction\n",
    "# 1.1 Example\n",
    "\n",
    "A = matrix(QQbar,[\n",
    "    \n",
    "    [ 1, 1, -2],\n",
    "    [ 0, 1, 3],\n",
    "    [ 1, 0, -1]\n",
    "    \n",
    "])\n",
    "\n",
    "B = matrix(QQbar,[\n",
    "    \n",
    "    [-2],\n",
    "    [ 7],\n",
    "    [ -1]\n",
    "    \n",
    "])\n",
    "\n",
    "C = A.augment(B)\n",
    "C"
   ]
  },
  {
   "cell_type": "code",
   "execution_count": 10,
   "metadata": {},
   "outputs": [
    {
     "data": {
      "text/plain": [
       "[ 1  1 -2 -2]\n",
       "[ 0  1  3  7]\n",
       "[ 0 -1  1  1]"
      ]
     },
     "execution_count": 10,
     "metadata": {},
     "output_type": "execute_result"
    }
   ],
   "source": [
    "# -1*r1 + r3 -> r3\n",
    "C.add_multiple_of_row(2, 0, -1)\n",
    "C"
   ]
  },
  {
   "cell_type": "code",
   "execution_count": 11,
   "metadata": {},
   "outputs": [
    {
     "data": {
      "text/plain": [
       "[ 1  1 -2 -2]\n",
       "[ 0  1  3  7]\n",
       "[ 0  0  4  8]"
      ]
     },
     "execution_count": 11,
     "metadata": {},
     "output_type": "execute_result"
    }
   ],
   "source": [
    "# 1*r2 + r3 -> r3\n",
    "C.add_multiple_of_row(2, 1, 1)\n",
    "C"
   ]
  },
  {
   "cell_type": "code",
   "execution_count": 12,
   "metadata": {},
   "outputs": [
    {
     "data": {
      "text/plain": [
       "[ 1  1 -2 -2]\n",
       "[ 0  1  3  7]\n",
       "[ 0  0  1  2]"
      ]
     },
     "execution_count": 12,
     "metadata": {},
     "output_type": "execute_result"
    }
   ],
   "source": [
    "# 1/4 * r3 -> r3\n",
    "C.rescale_row(2, 1/4)\n",
    "C"
   ]
  },
  {
   "cell_type": "code",
   "execution_count": 13,
   "metadata": {},
   "outputs": [
    {
     "data": {
      "text/plain": [
       "[ 1  1 -2 -2]\n",
       "[ 0  1  0  1]\n",
       "[ 0  0  1  2]"
      ]
     },
     "execution_count": 13,
     "metadata": {},
     "output_type": "execute_result"
    }
   ],
   "source": [
    "# -3*r3 + r2 -> r2\n",
    "C.add_multiple_of_row(1, 2, -3)\n",
    "\n",
    "C"
   ]
  },
  {
   "cell_type": "code",
   "execution_count": 14,
   "metadata": {},
   "outputs": [
    {
     "data": {
      "text/plain": [
       "[1 1 0 2]\n",
       "[0 1 0 1]\n",
       "[0 0 1 2]"
      ]
     },
     "execution_count": 14,
     "metadata": {},
     "output_type": "execute_result"
    }
   ],
   "source": [
    "# 2*r3 + r1 -> r1\n",
    "C.add_multiple_of_row(0, 2, 2)\n",
    "C"
   ]
  },
  {
   "cell_type": "code",
   "execution_count": 15,
   "metadata": {},
   "outputs": [
    {
     "data": {
      "text/plain": [
       "[1 0 0 1]\n",
       "[0 1 0 1]\n",
       "[0 0 1 2]"
      ]
     },
     "execution_count": 15,
     "metadata": {},
     "output_type": "execute_result"
    }
   ],
   "source": [
    "# -1*r2 + r1 -> r1\n",
    "C.add_multiple_of_row(0, 1, -1)\n",
    "C"
   ]
  },
  {
   "cell_type": "code",
   "execution_count": 16,
   "metadata": {},
   "outputs": [],
   "source": [
    "# x = 1, y = 1, z=2\n",
    "\n",
    "#[1, 0, 0] [x]   [1]\n",
    "#[0, 1, 0] [y] = [1]\n",
    "#[0, 0, 1] [z]   [2]"
   ]
  }
 ],
 "metadata": {
  "kernelspec": {
   "display_name": "SageMath 9.3",
   "language": "sage",
   "name": "sagemath"
  },
  "language_info": {
   "codemirror_mode": {
    "name": "ipython",
    "version": 3
   },
   "file_extension": ".py",
   "mimetype": "text/x-python",
   "name": "python",
   "nbconvert_exporter": "python",
   "pygments_lexer": "ipython3",
   "version": "3.7.10"
  }
 },
 "nbformat": 4,
 "nbformat_minor": 4
}
