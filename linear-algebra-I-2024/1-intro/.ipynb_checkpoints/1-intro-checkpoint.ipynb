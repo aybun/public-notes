{
 "cells": [
  {
   "cell_type": "code",
   "execution_count": 1,
   "metadata": {},
   "outputs": [],
   "source": [
    "#sagemath 9.3\n",
    "#Reference : https://wiki.sagemath.org/quickref?action=AttachFile&do=get&target=quickref-linalg.pdf\n"
   ]
  },
  {
   "cell_type": "code",
   "execution_count": 17,
   "metadata": {},
   "outputs": [
    {
     "data": {
      "text/plain": [
       "[2]\n",
       "[6]"
      ]
     },
     "execution_count": 17,
     "metadata": {},
     "output_type": "execute_result"
    }
   ],
   "source": [
    "# hit CTRL + Enter to run the cell\n",
    "# QQ means rational numbers. Don't worry about that for now.\n",
    "\n",
    "# First item\n",
    "\n",
    "B = matrix(QQ,[\n",
    "    [2],\n",
    "    [6]\n",
    "])\n",
    "B"
   ]
  },
  {
   "cell_type": "code",
   "execution_count": 18,
   "metadata": {},
   "outputs": [
    {
     "data": {
      "text/plain": [
       "[ 2  5]\n",
       "[-4 10]"
      ]
     },
     "execution_count": 18,
     "metadata": {},
     "output_type": "execute_result"
    }
   ],
   "source": [
    "A = matrix(QQ,[\n",
    "    \n",
    "    [ 2,  5],\n",
    "    [ -4, 10]\n",
    "    \n",
    "])\n",
    "A"
   ]
  },
  {
   "cell_type": "code",
   "execution_count": 48,
   "metadata": {},
   "outputs": [
    {
     "data": {
      "text/plain": [
       "[ 2  5  2]\n",
       "[-4 10  6]"
      ]
     },
     "execution_count": 48,
     "metadata": {},
     "output_type": "execute_result"
    }
   ],
   "source": [
    "# [A | B]\n",
    "\n",
    "C = A.augment(B)\n",
    "C"
   ]
  },
  {
   "cell_type": "code",
   "execution_count": 49,
   "metadata": {},
   "outputs": [
    {
     "data": {
      "text/plain": [
       "[ 2  5  2]\n",
       "[ 0 20 10]"
      ]
     },
     "execution_count": 49,
     "metadata": {},
     "output_type": "execute_result"
    }
   ],
   "source": [
    "# A.add_multiple_of_row(i,j,a) a*(row j) + row i\n",
    "# row 1 has index 0. row 2 has index 1.\n",
    "\n",
    "# 2*r1 + r2 -> r2 \n",
    "C.add_multiple_of_row(1, 0, 2)\n",
    "C"
   ]
  },
  {
   "cell_type": "code",
   "execution_count": 50,
   "metadata": {},
   "outputs": [
    {
     "data": {
      "text/plain": [
       "[   2    0 -1/2]\n",
       "[   0   20   10]"
      ]
     },
     "execution_count": 50,
     "metadata": {},
     "output_type": "execute_result"
    }
   ],
   "source": [
    "#A.rescale_row(i,a) a*(row i)\n",
    "\n",
    "# -1/4*r2 + r1 -> r1 \n",
    "C.add_multiple_of_row(0, 1, -1/4)\n",
    "C"
   ]
  },
  {
   "cell_type": "code",
   "execution_count": 51,
   "metadata": {},
   "outputs": [
    {
     "data": {
      "text/plain": [
       "[   1    0 -1/4]\n",
       "[   0   20   10]"
      ]
     },
     "execution_count": 51,
     "metadata": {},
     "output_type": "execute_result"
    }
   ],
   "source": [
    "#A.rescale_row(i,a) a*(row i)\n",
    "\n",
    "# 1/2 * r1 -> r1\n",
    "C.rescale_row(0, 1/2)\n",
    "C"
   ]
  },
  {
   "cell_type": "code",
   "execution_count": 52,
   "metadata": {},
   "outputs": [
    {
     "data": {
      "text/plain": [
       "[   1    0 -1/4]\n",
       "[   0    1  1/2]"
      ]
     },
     "execution_count": 52,
     "metadata": {},
     "output_type": "execute_result"
    }
   ],
   "source": [
    "# 1/20 * r2 -> r2 \n",
    "C.rescale_row(1, 1/20)\n",
    "C"
   ]
  },
  {
   "cell_type": "code",
   "execution_count": null,
   "metadata": {},
   "outputs": [],
   "source": [
    "# Second item\n"
   ]
  }
 ],
 "metadata": {
  "kernelspec": {
   "display_name": "SageMath 9.3",
   "language": "sage",
   "name": "sagemath"
  },
  "language_info": {
   "codemirror_mode": {
    "name": "ipython",
    "version": 3
   },
   "file_extension": ".py",
   "mimetype": "text/x-python",
   "name": "python",
   "nbconvert_exporter": "python",
   "pygments_lexer": "ipython3",
   "version": "3.7.10"
  }
 },
 "nbformat": 4,
 "nbformat_minor": 4
}
