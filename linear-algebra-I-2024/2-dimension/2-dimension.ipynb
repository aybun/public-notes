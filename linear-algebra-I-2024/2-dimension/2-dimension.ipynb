{
 "cells": [
  {
   "cell_type": "code",
   "execution_count": null,
   "metadata": {},
   "outputs": [],
   "source": [
    "# sagemath 9.3\n",
    "# outline : \n",
    "# How the question about dimension of a vector space leads to definitions.\n",
    "# However, the focus of linear algebra is linear maps (in fact linear operator).\n",
    "\n"
   ]
  },
  {
   "cell_type": "code",
   "execution_count": 1,
   "metadata": {},
   "outputs": [
    {
     "data": {
      "text/plain": [
       "[1 2]\n",
       "[0 0]"
      ]
     },
     "execution_count": 1,
     "metadata": {},
     "output_type": "execute_result"
    }
   ],
   "source": [
    "# Suppose that we want to know the dimension of span{(1, 2), (2, 4)} what do we do?\n",
    "\n",
    "# We write (1, 2), (2, 4) as row vectors, then perform the row operation.\n",
    "A = matrix(QQbar,[\n",
    "    \n",
    "    [ 1, 2],\n",
    "    [ 2, 4]\n",
    "    \n",
    "])\n",
    "\n",
    "# -2*r1 + r2 -> r2 \n",
    "\n",
    "A.add_multiple_of_row(1, 0, -2)\n",
    "A\n",
    "\n",
    "# The result below indicates that (2, 4) is in the span of (1, 2).\n",
    "# It is useless to include (2, 4) as a basis of the space.\n",
    "# Hence dim span{(1, 2), (2, 4)} = dim span { (1, 2)} = 1."
   ]
  },
  {
   "cell_type": "code",
   "execution_count": null,
   "metadata": {},
   "outputs": [],
   "source": []
  }
 ],
 "metadata": {
  "kernelspec": {
   "display_name": "SageMath 9.3",
   "language": "sage",
   "name": "sagemath"
  },
  "language_info": {
   "codemirror_mode": {
    "name": "ipython",
    "version": 3
   },
   "file_extension": ".py",
   "mimetype": "text/x-python",
   "name": "python",
   "nbconvert_exporter": "python",
   "pygments_lexer": "ipython3",
   "version": "3.7.10"
  }
 },
 "nbformat": 4,
 "nbformat_minor": 4
}
